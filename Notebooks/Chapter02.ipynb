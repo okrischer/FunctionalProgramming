{
 "cells": [
  {
   "cell_type": "markdown",
   "metadata": {},
   "source": [
    "# Chapter 2 Exercises"
   ]
  },
  {
   "cell_type": "markdown",
   "metadata": {},
   "source": [
    "## Exercise 1\n",
    "Declare a function `f: int -> bool` such that $f(n) = true$ exactly when n is divisible by 2 or divisible by 3 but not divisible by 5. Write down the expected values of $f(24), f(27), f(29)$ and $f(30)$ and compare with the result. Hint: n is divisible by q when $n \\bmod q = 0$."
   ]
  },
  {
   "cell_type": "code",
   "execution_count": 1,
   "metadata": {},
   "outputs": [
    {
     "output_type": "display_data",
     "data": {
      "text/html": "\r\n<div>\r\n    <div id='dotnet-interactive-this-cell-17097.ede02c63310d473db8180e2a42f30266' style='display: none'>\r\n        The below script needs to be able to find the current output cell; this is an easy method to get it.\r\n    </div>\r\n    <script type='text/javascript'>\r\n// ensure `require` is available globally\r\nif (typeof require !== typeof Function || typeof require.config !== typeof Function) {\r\n    let require_script = document.createElement('script');\r\n    require_script.setAttribute('src', 'https://cdnjs.cloudflare.com/ajax/libs/require.js/2.3.6/require.min.js');\r\n    require_script.setAttribute('type', 'text/javascript');\r\n    require_script.onload = function () {\r\n        loadDotnetInteractiveApi();\r\n    };\r\n\r\n    document.getElementsByTagName('head')[0].appendChild(require_script);\r\n}\r\nelse {\r\n    loadDotnetInteractiveApi();\r\n}\r\n\r\nasync function probeAddresses(probingAddresses) {\r\n    function timeout(ms, promise) {\r\n        return new Promise(function (resolve, reject) {\r\n            setTimeout(function () {\r\n                reject(new Error('timeout'))\r\n            }, ms)\r\n            promise.then(resolve, reject)\r\n        })\r\n    }\r\n\r\n    if (Array.isArray(probingAddresses)) {\r\n        for (let i = 0; i < probingAddresses.length; i++) {\r\n\r\n            let rootUrl = probingAddresses[i];\r\n\r\n            if (!rootUrl.endsWith('/')) {\r\n                rootUrl = `${rootUrl}/`;\r\n            }\r\n\r\n            try {\r\n                let response = await timeout(1000, fetch(`${rootUrl}discovery`, {\r\n                    method: 'POST',\r\n                    cache: 'no-cache',\r\n                    mode: 'cors',\r\n                    timeout: 1000,\r\n                    headers: {\r\n                        'Content-Type': 'text/plain'\r\n                    },\r\n                    body: probingAddresses[i]\r\n                }));\r\n\r\n                if (response.status == 200) {\r\n                    return rootUrl;\r\n                }\r\n            }\r\n            catch (e) { }\r\n        }\r\n    }\r\n}\r\n\r\nfunction loadDotnetInteractiveApi() {\r\n    probeAddresses([\"http://192.168.178.20:1024/\", \"http://127.0.0.1:1024/\"])\r\n        .then((root) => {\r\n            // use probing to find host url and api resources\r\n            // load interactive helpers and language services\r\n            let dotnetInteractiveRequire = require.config({\r\n                context: '17097.ede02c63310d473db8180e2a42f30266',\r\n                paths: {\r\n                    'dotnet-interactive': `${root}resources`\r\n                }\r\n            }) || require;\r\n\r\n            let dotnetInteractiveExtensionsRequire = require.config({\r\n                context: '17097.ede02c63310d473db8180e2a42f30266',\r\n                paths: {\r\n                    'dotnet-interactive-extensions': `${root}extensions`\r\n                }\r\n            }) || require;\r\n\r\n            if (!window.dotnetInteractiveRequire) {\r\n                window.dotnetInteractiveRequire = dotnetInteractiveRequire;\r\n            }\r\n\r\n            if (!window.dotnetInteractiveExtensionsRequire) {\r\n                window.dotnetInteractiveExtensionsRequire = dotnetInteractiveExtensionsRequire;\r\n            }\r\n\r\n            window.getExtensionRequire = function(extensionName, extensionCacheBuster) {\r\n                let paths = {};\r\n                paths[extensionName] = `${root}extensions/${extensionName}/resources/`;\r\n                \r\n                let internalRequire = require.config({\r\n                    context: extensionCacheBuster,\r\n                    paths: paths,\r\n                    urlArgs: `cacheBuster=${extensionCacheBuster}`\r\n                    }) || require;\r\n\r\n                return internalRequire\r\n            };\r\n        \r\n            dotnetInteractiveRequire([\r\n                    'dotnet-interactive/dotnet-interactive'\r\n                ],\r\n                function (dotnet) {\r\n                    dotnet.init(window);\r\n                },\r\n                function (error) {\r\n                    console.log(error);\r\n                }\r\n            );\r\n        })\r\n        .catch(error => {console.log(error);});\r\n    }\r\n    </script>\r\n</div>"
     },
     "metadata": {}
    }
   ],
   "source": [
    "let f n = ((n % 2 = 0) || (n % 3 = 0)) && not (n % 5 = 0)"
   ]
  },
  {
   "cell_type": "code",
   "execution_count": 2,
   "metadata": {},
   "outputs": [
    {
     "output_type": "display_data",
     "data": {
      "text/html": "<div class=\"dni-plaintext\">True</div>"
     },
     "metadata": {}
    },
    {
     "output_type": "display_data",
     "data": {
      "text/html": "<div class=\"dni-plaintext\">True</div>"
     },
     "metadata": {}
    },
    {
     "output_type": "display_data",
     "data": {
      "text/html": "<div class=\"dni-plaintext\">False</div>"
     },
     "metadata": {}
    },
    {
     "output_type": "display_data",
     "data": {
      "text/html": "<div class=\"dni-plaintext\">False</div>"
     },
     "metadata": {}
    }
   ],
   "source": [
    "display(f(24))\n",
    "display(f(27))\n",
    "display(f(29))\n",
    "display(f(30))"
   ]
  },
  {
   "cell_type": "markdown",
   "metadata": {},
   "source": [
    "## Exercise 2\n",
    "Declare an *F#* function `pow: string * int -> string`, where:\n",
    "$$pow(s,n)=s_1 \\cdot s_2 \\cdots s_n$$\n",
    "where we use $\\cdot$ to denote string concatenation (the F# representation for this is `+`)."
   ]
  },
  {
   "cell_type": "code",
   "execution_count": 3,
   "metadata": {},
   "outputs": [],
   "source": [
    "let rec pow = function\n",
    "    | (s, 0) -> \"\"\n",
    "    | (s, n) -> s + pow (s, n-1)"
   ]
  },
  {
   "cell_type": "code",
   "execution_count": 4,
   "metadata": {},
   "outputs": [
    {
     "output_type": "execute_result",
     "data": {
      "text/plain": [
       "TestTestTestTestTest"
      ]
     },
     "metadata": {},
     "execution_count": 4
    }
   ],
   "source": [
    "pow(\"Test\", 5)"
   ]
  },
  {
   "cell_type": "markdown",
   "metadata": {},
   "source": [
    "## Exercise 3\n",
    "Declare the *F#* function `isIthChar: string * int * char -> bool` where the value of `isIthChar(str,i,ch)` is `true` if and only if *ch* is the i’th character in the string *str* (numbering starting at zero)."
   ]
  },
  {
   "cell_type": "code",
   "execution_count": 5,
   "metadata": {},
   "outputs": [],
   "source": [
    "let isIthChar(str: string, i: int, ch: char) = str.[i] = ch : bool"
   ]
  },
  {
   "cell_type": "code",
   "execution_count": 6,
   "metadata": {},
   "outputs": [
    {
     "output_type": "execute_result",
     "data": {
      "text/html": "<div class=\"dni-plaintext\">True</div>"
     },
     "metadata": {},
     "execution_count": 6
    }
   ],
   "source": [
    "isIthChar(\"Test\", 1, 'e')"
   ]
  },
  {
   "cell_type": "markdown",
   "metadata": {},
   "source": [
    "## Exercise 4\n",
    "Declare the *F#* function `occFromIth: string * int * char -> int` where\n",
    "\n",
    "> `occFromIth(str, i, ch)` = the number of occurences of character *ch* in postions *j* in the string *str* with $j \\geq i$."
   ]
  },
  {
   "cell_type": "code",
   "execution_count": 7,
   "metadata": {},
   "outputs": [],
   "source": [
    "let rec occFromIth(str: string, i: int, ch: char) =\n",
    "    if i >= str.Length then 0\n",
    "    else if isIthChar(str, i, ch) then 1 + occFromIth(str, i+1, ch)\n",
    "    else occFromIth(str, i+1, ch)"
   ]
  },
  {
   "cell_type": "code",
   "execution_count": 8,
   "metadata": {},
   "outputs": [
    {
     "output_type": "execute_result",
     "data": {
      "text/html": "<div class=\"dni-plaintext\">2</div>"
     },
     "metadata": {},
     "execution_count": 8
    }
   ],
   "source": [
    "occFromIth(\"abcabcabc\", 4, 'b')"
   ]
  },
  {
   "cell_type": "markdown",
   "metadata": {},
   "source": [
    "## Exercise 5\n",
    "Declare the *F#* function `occInString: string * char -> int` where\n",
    "> `occInString(str, ch)` = the number of occurences of character *ch* in the string *str*."
   ]
  },
  {
   "cell_type": "code",
   "execution_count": 9,
   "metadata": {},
   "outputs": [],
   "source": [
    "let rec occInString(str: string, ch: char) =\n",
    "    occFromIth(str, 0, ch)"
   ]
  },
  {
   "cell_type": "code",
   "execution_count": 10,
   "metadata": {},
   "outputs": [
    {
     "output_type": "execute_result",
     "data": {
      "text/html": "<div class=\"dni-plaintext\">3</div>"
     },
     "metadata": {},
     "execution_count": 10
    }
   ],
   "source": [
    "occInString(\"abcabcabc\", 'b')"
   ]
  },
  {
   "cell_type": "code",
   "execution_count": null,
   "metadata": {},
   "outputs": [],
   "source": []
  }
 ],
 "metadata": {
  "kernelspec": {
   "display_name": ".NET (F#)",
   "language": "F#",
   "name": ".net-fsharp"
  },
  "language_info": {
   "file_extension": ".fs",
   "mimetype": "text/x-fsharp",
   "name": "C#",
   "pygments_lexer": "fsharp",
   "version": "4.5"
  }
 },
 "nbformat": 4,
 "nbformat_minor": 4
}